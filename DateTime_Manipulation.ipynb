{
 "cells": [
  {
   "cell_type": "markdown",
   "metadata": {},
   "source": [
    "## Part I: Datetime module"
   ]
  },
  {
   "cell_type": "code",
   "execution_count": 44,
   "metadata": {
    "collapsed": false
   },
   "outputs": [
    {
     "name": "stdout",
     "output_type": "stream",
     "text": [
      "2017-7-8\n"
     ]
    },
    {
     "data": {
      "text/plain": [
       "'Sat, 08 Jul 2017 16:37:38 +0000'"
      ]
     },
     "execution_count": 44,
     "metadata": {},
     "output_type": "execute_result"
    }
   ],
   "source": [
    "from datetime import date, time, datetime, tzinfo\n",
    "from time import gmtime, strftime\n",
    "\n",
    "# date\n",
    "today = date.today()\n",
    "print('{0}-{1}-{2}'.format(today.year, today.month, today.day)) # default format invoked\n",
    "\n",
    "# get gmtime() & print it out.\n",
    "strftime(\"%a, %d %b %Y %H:%M:%S +0000\", gmtime())\n"
   ]
  },
  {
   "cell_type": "code",
   "execution_count": 83,
   "metadata": {
    "collapsed": false
   },
   "outputs": [
    {
     "data": {
      "image/png": "[encoded data removed]",
      "text/plain": [
       "<matplotlib.figure.Figure at 0x7f1813d34828>"
      ]
     },
     "metadata": {},
     "output_type": "display_data"
    }
   ],
   "source": [
    "# Play with random generator from numpy\n",
    "import numpy as np\n",
    "import matplotlib.pyplot as plt\n",
    "from random import *\n",
    "%matplotlib inline\n",
    "\n",
    "fig = plt.figure(figsize=(8, 8))\n",
    "seq_length = int(10e4)\n",
    "rand_seq = np.random.standard_cauchy(size=seq_length)\n",
    "rand_seq = rand_seq[(rand_seq>-10) & (rand_seq<10)]  # truncate distribution so it plots well\n",
    "hist_plot = plt.hist(rand_seq, bins = 100)\n",
    "plt.xlabel('value')\n",
    "plt.ylabel('count')\n",
    "plt.title('random histogram')\n",
    "plt.show()"
   ]
  },
  {
   "cell_type": "code",
   "execution_count": 88,
   "metadata": {
    "collapsed": false
   },
   "outputs": [
    {
     "name": "stdout",
     "output_type": "stream",
     "text": [
      "[ 0  1  2  3  4  5  6  7  8  9 10 11 12 13 14 15 16 17 18 19 20 21 22 23 24\n",
      " 25 26 27 28 29 30 31 32 33 34 35 36 37 38 39 40 41 42 43 44 45 46 47 48 49\n",
      " 50 51 52 53 54 55 56 57 58 59 60 61 62 63 64 65 66 67 68 69 70 71 72 73 74\n",
      " 75 76 77 78 79 80 81 82 83 84 85 86 87 88 89 90 91 92 93 94 95 96 97 98 99]\n",
      "\n",
      " Shuffle x\n",
      "[ 8 20  5 88 89  2 86  7 85  0 99 23 43 90 49 31 42 76 79 44 51 72 28 30  1\n",
      " 74 54 17 82  6 56 19 37 24 10 70 13 52 96 38 50 93 48 53 39 64 98 12 21 94\n",
      " 18 78 40 27 95 63 92 15 36 62 67 60 25 32 35 58 14 47 80 29  3 55 26 16 45\n",
      " 33 75 65 59 11 71 61 97 84  4 57 68 46 91 73 83 81 22 69 77  9 66 34 87 41]\n"
     ]
    }
   ],
   "source": [
    "# numpy.random.shuffle(x)\n",
    "x = np.arange(100)\n",
    "print(x)\n",
    "print('\\n Shuffle x')\n",
    "np.random.shuffle(x)\n",
    "print(x)"
   ]
  },
  {
   "cell_type": "code",
   "execution_count": null,
   "metadata": {
    "collapsed": true
   },
   "outputs": [],
   "source": []
  }
 ],
 "metadata": {
  "kernelspec": {
   "display_name": "Python 3",
   "language": "python",
   "name": "python3"
  },
  "language_info": {
   "codemirror_mode": {
    "name": "ipython",
    "version": 3
   },
   "file_extension": ".py",
   "mimetype": "text/x-python",
   "name": "python",
   "nbconvert_exporter": "python",
   "pygments_lexer": "ipython3",
   "version": "3.6.1"
  }
 },
 "nbformat": 4,
 "nbformat_minor": 2
}
