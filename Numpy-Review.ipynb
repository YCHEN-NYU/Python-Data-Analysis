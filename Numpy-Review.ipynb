{
 "cells": [
  {
   "cell_type": "code",
   "execution_count": null,
   "metadata": {
    "collapsed": true
   },
   "outputs": [],
   "source": [
    "import numpy as np \n",
    "import matplotlib.pyplot as plt \n",
    "import pandas as pd\n",
    "from sklearn import linear_model\n",
    "%matplotlib inline\n",
    "\n",
    "N = 100\n",
    "array_x = np.array(range(N))\n",
    "linear_y = 0.5*array_x + 1.0 \n",
    "noice_y = np.array(np.random.randn(N))\n",
    "array_y = linear_y + noice_y\n",
    "plt.figure(figsize = (8, 6))\n",
    "plt.grid(True)\n",
    "fig = plt.plot(array_x, array_y, '.')\n",
    "plt.savefig(\"xy_plot.jpg\", dpi = 96)"
   ]
  }
 ],
 "metadata": {
  "kernelspec": {
   "display_name": "Python 3",
   "language": "python",
   "name": "python3"
  },
  "language_info": {
   "codemirror_mode": {
    "name": "ipython",
    "version": 3
   },
   "file_extension": ".py",
   "mimetype": "text/x-python",
   "name": "python",
   "nbconvert_exporter": "python",
   "pygments_lexer": "ipython3",
   "version": "3.6.1"
  }
 },
 "nbformat": 4,
 "nbformat_minor": 2
}
